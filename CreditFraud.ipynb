{
 "cells": [
  {
   "cell_type": "markdown",
   "metadata": {},
   "source": [
    "----------\n",
    "**Credit Fraud**\n",
    "=====================================\n",
    "\n",
    "***Zoe Li***\n",
    "\n",
    "----------"
   ]
  },
  {
   "cell_type": "markdown",
   "metadata": {},
   "source": [
    "## Problem Description"
   ]
  },
  {
   "cell_type": "code",
   "execution_count": 6,
   "metadata": {},
   "outputs": [],
   "source": [
    "%matplotlib inline\n",
    "import numpy as np\n",
    "import pandas as pd\n",
    "import matplotlib.pyplot as plt\n",
    "import seaborn as sns\n"
   ]
  },
  {
   "cell_type": "markdown",
   "metadata": {},
   "source": [
    "## Data"
   ]
  },
  {
   "cell_type": "code",
   "execution_count": 5,
   "metadata": {},
   "outputs": [
    {
     "data": {
      "text/html": [
       "<div>\n",
       "<style scoped>\n",
       "    .dataframe tbody tr th:only-of-type {\n",
       "        vertical-align: middle;\n",
       "    }\n",
       "\n",
       "    .dataframe tbody tr th {\n",
       "        vertical-align: top;\n",
       "    }\n",
       "\n",
       "    .dataframe thead th {\n",
       "        text-align: right;\n",
       "    }\n",
       "</style>\n",
       "<table border=\"1\" class=\"dataframe\">\n",
       "  <thead>\n",
       "    <tr style=\"text-align: right;\">\n",
       "      <th></th>\n",
       "      <th>Id</th>\n",
       "      <th>Time</th>\n",
       "      <th>V1</th>\n",
       "      <th>V2</th>\n",
       "      <th>V3</th>\n",
       "      <th>V4</th>\n",
       "      <th>V5</th>\n",
       "      <th>V6</th>\n",
       "      <th>V7</th>\n",
       "      <th>V8</th>\n",
       "      <th>...</th>\n",
       "      <th>V21</th>\n",
       "      <th>V22</th>\n",
       "      <th>V23</th>\n",
       "      <th>V24</th>\n",
       "      <th>V25</th>\n",
       "      <th>V26</th>\n",
       "      <th>V27</th>\n",
       "      <th>V28</th>\n",
       "      <th>Amount</th>\n",
       "      <th>Class</th>\n",
       "    </tr>\n",
       "  </thead>\n",
       "  <tbody>\n",
       "    <tr>\n",
       "      <th>0</th>\n",
       "      <td>0</td>\n",
       "      <td>0</td>\n",
       "      <td>-1.359807</td>\n",
       "      <td>-0.072781</td>\n",
       "      <td>2.536347</td>\n",
       "      <td>1.378155</td>\n",
       "      <td>-0.338321</td>\n",
       "      <td>0.462388</td>\n",
       "      <td>0.239599</td>\n",
       "      <td>0.098698</td>\n",
       "      <td>...</td>\n",
       "      <td>-0.018307</td>\n",
       "      <td>0.277838</td>\n",
       "      <td>-0.110474</td>\n",
       "      <td>0.066928</td>\n",
       "      <td>0.128539</td>\n",
       "      <td>-0.189115</td>\n",
       "      <td>0.133558</td>\n",
       "      <td>-0.021053</td>\n",
       "      <td>149.62</td>\n",
       "      <td>0</td>\n",
       "    </tr>\n",
       "    <tr>\n",
       "      <th>1</th>\n",
       "      <td>1</td>\n",
       "      <td>0</td>\n",
       "      <td>1.191857</td>\n",
       "      <td>0.266151</td>\n",
       "      <td>0.166480</td>\n",
       "      <td>0.448154</td>\n",
       "      <td>0.060018</td>\n",
       "      <td>-0.082361</td>\n",
       "      <td>-0.078803</td>\n",
       "      <td>0.085102</td>\n",
       "      <td>...</td>\n",
       "      <td>-0.225775</td>\n",
       "      <td>-0.638672</td>\n",
       "      <td>0.101288</td>\n",
       "      <td>-0.339846</td>\n",
       "      <td>0.167170</td>\n",
       "      <td>0.125895</td>\n",
       "      <td>-0.008983</td>\n",
       "      <td>0.014724</td>\n",
       "      <td>2.69</td>\n",
       "      <td>0</td>\n",
       "    </tr>\n",
       "    <tr>\n",
       "      <th>2</th>\n",
       "      <td>2</td>\n",
       "      <td>1</td>\n",
       "      <td>-1.358354</td>\n",
       "      <td>-1.340163</td>\n",
       "      <td>1.773209</td>\n",
       "      <td>0.379780</td>\n",
       "      <td>-0.503198</td>\n",
       "      <td>1.800499</td>\n",
       "      <td>0.791461</td>\n",
       "      <td>0.247676</td>\n",
       "      <td>...</td>\n",
       "      <td>0.247998</td>\n",
       "      <td>0.771679</td>\n",
       "      <td>0.909412</td>\n",
       "      <td>-0.689281</td>\n",
       "      <td>-0.327642</td>\n",
       "      <td>-0.139097</td>\n",
       "      <td>-0.055353</td>\n",
       "      <td>-0.059752</td>\n",
       "      <td>378.66</td>\n",
       "      <td>0</td>\n",
       "    </tr>\n",
       "    <tr>\n",
       "      <th>3</th>\n",
       "      <td>3</td>\n",
       "      <td>1</td>\n",
       "      <td>-0.966272</td>\n",
       "      <td>-0.185226</td>\n",
       "      <td>1.792993</td>\n",
       "      <td>-0.863291</td>\n",
       "      <td>-0.010309</td>\n",
       "      <td>1.247203</td>\n",
       "      <td>0.237609</td>\n",
       "      <td>0.377436</td>\n",
       "      <td>...</td>\n",
       "      <td>-0.108300</td>\n",
       "      <td>0.005274</td>\n",
       "      <td>-0.190321</td>\n",
       "      <td>-1.175575</td>\n",
       "      <td>0.647376</td>\n",
       "      <td>-0.221929</td>\n",
       "      <td>0.062723</td>\n",
       "      <td>0.061458</td>\n",
       "      <td>123.50</td>\n",
       "      <td>0</td>\n",
       "    </tr>\n",
       "    <tr>\n",
       "      <th>4</th>\n",
       "      <td>4</td>\n",
       "      <td>2</td>\n",
       "      <td>-1.158233</td>\n",
       "      <td>0.877737</td>\n",
       "      <td>1.548718</td>\n",
       "      <td>0.403034</td>\n",
       "      <td>-0.407193</td>\n",
       "      <td>0.095921</td>\n",
       "      <td>0.592941</td>\n",
       "      <td>-0.270533</td>\n",
       "      <td>...</td>\n",
       "      <td>-0.009431</td>\n",
       "      <td>0.798278</td>\n",
       "      <td>-0.137458</td>\n",
       "      <td>0.141267</td>\n",
       "      <td>-0.206010</td>\n",
       "      <td>0.502292</td>\n",
       "      <td>0.219422</td>\n",
       "      <td>0.215153</td>\n",
       "      <td>69.99</td>\n",
       "      <td>0</td>\n",
       "    </tr>\n",
       "  </tbody>\n",
       "</table>\n",
       "<p>5 rows × 32 columns</p>\n",
       "</div>"
      ],
      "text/plain": [
       "   Id  Time        V1        V2        V3        V4        V5        V6  \\\n",
       "0   0     0 -1.359807 -0.072781  2.536347  1.378155 -0.338321  0.462388   \n",
       "1   1     0  1.191857  0.266151  0.166480  0.448154  0.060018 -0.082361   \n",
       "2   2     1 -1.358354 -1.340163  1.773209  0.379780 -0.503198  1.800499   \n",
       "3   3     1 -0.966272 -0.185226  1.792993 -0.863291 -0.010309  1.247203   \n",
       "4   4     2 -1.158233  0.877737  1.548718  0.403034 -0.407193  0.095921   \n",
       "\n",
       "         V7        V8  ...         V21       V22       V23       V24  \\\n",
       "0  0.239599  0.098698  ...   -0.018307  0.277838 -0.110474  0.066928   \n",
       "1 -0.078803  0.085102  ...   -0.225775 -0.638672  0.101288 -0.339846   \n",
       "2  0.791461  0.247676  ...    0.247998  0.771679  0.909412 -0.689281   \n",
       "3  0.237609  0.377436  ...   -0.108300  0.005274 -0.190321 -1.175575   \n",
       "4  0.592941 -0.270533  ...   -0.009431  0.798278 -0.137458  0.141267   \n",
       "\n",
       "        V25       V26       V27       V28  Amount  Class  \n",
       "0  0.128539 -0.189115  0.133558 -0.021053  149.62      0  \n",
       "1  0.167170  0.125895 -0.008983  0.014724    2.69      0  \n",
       "2 -0.327642 -0.139097 -0.055353 -0.059752  378.66      0  \n",
       "3  0.647376 -0.221929  0.062723  0.061458  123.50      0  \n",
       "4 -0.206010  0.502292  0.219422  0.215153   69.99      0  \n",
       "\n",
       "[5 rows x 32 columns]"
      ]
     },
     "execution_count": 5,
     "metadata": {},
     "output_type": "execute_result"
    }
   ],
   "source": [
    "data = pd.read_csv(\"creditcard_train.csv\")\n",
    "data.head()\n",
    "#data.describe()\n",
    "#data.info()"
   ]
  },
  {
   "cell_type": "code",
   "execution_count": 10,
   "metadata": {},
   "outputs": [
    {
     "name": "stdout",
     "output_type": "stream",
     "text": [
      "Class\n",
      "0    227394\n",
      "1       395\n",
      "dtype: int64\n",
      "percentage of fraud transacation is 0.17340609072431065\n",
      "percentage of normal transacation is 99.82659390927569\n"
     ]
    }
   ],
   "source": [
    "print(data.groupby(['Class']).size())\n",
    "\n",
    "Fraud_transacation = data[data[\"Class\"]==1]\n",
    "Normal_transacation = data[data[\"Class\"]==0]\n",
    "print(\"percentage of fraud transacation is\", len(Fraud_transacation) / len(data) * 100)\n",
    "print(\"percentage of normal transacation is\", len(Normal_transacation) / len(data) * 100)\n",
    "\n",
    "\n",
    "# X = data.iloc[:,1:31]\n",
    "# y = data['Class']\n",
    "#Xtrain,Xtest,ytrain,ytest=train_test_split(X, y, test_size=0.2, random_state=3)"
   ]
  },
  {
   "cell_type": "markdown",
   "metadata": {},
   "source": [
    "### Visualization"
   ]
  },
  {
   "cell_type": "code",
   "execution_count": 25,
   "metadata": {},
   "outputs": [
    {
     "data": {
      "image/png": "[encoded data removed]",
      "text/plain": [
       "<Figure size 1080x576 with 2 Axes>"
      ]
     },
     "metadata": {},
     "output_type": "display_data"
    }
   ],
   "source": [
    "plt.figure(figsize=(15, 8))\n",
    "plt.subplot(121)\n",
    "data[data['Class'] == 0]['Amount'].hist(bins = 20)\n",
    "plt.title('Normal')\n",
    "plt.xlabel('Amount');\n",
    "plt.subplot(122)\n",
    "data[data['Class'] == 1]['Amount'].hist(bins = 20);\n",
    "plt.title('Fraud')\n",
    "plt.xlabel('Amount');"
   ]
  },
  {
   "cell_type": "code",
   "execution_count": 19,
   "metadata": {},
   "outputs": [
    {
     "data": {
      "image/png": "[encoded data removed]",
      "text/plain": [
       "<Figure size 432x288 with 1 Axes>"
      ]
     },
     "metadata": {},
     "output_type": "display_data"
    }
   ],
   "source": [
    "sns.scatterplot(x='Class', y='Amount', data=data);"
   ]
  },
  {
   "cell_type": "code",
   "execution_count": 23,
   "metadata": {},
   "outputs": [
    {
     "data": {
      "image/png": "[encoded data removed]",
      "text/plain": [
       "<Figure size 1080x576 with 2 Axes>"
      ]
     },
     "metadata": {},
     "output_type": "display_data"
    }
   ],
   "source": [
    "plt.figure(figsize=(15, 8))\n",
    "plt.subplot(121)\n",
    "data[(data['Class'] == 0) & (data['Amount'] < 1500.0)]['Amount'].hist(bins = 20)\n",
    "plt.title('Normal (amount < 1500)');\n",
    "plt.subplot(122)\n",
    "data[(data['Class'] == 1) & (data['Amount'] < 1500.0)]['Amount'].hist(bins = 20);\n",
    "plt.title('Fraud (amount < 1500)');"
   ]
  },
  {
   "cell_type": "code",
   "execution_count": 27,
   "metadata": {},
   "outputs": [
    {
     "data": {
      "image/png": "[encoded data removed]",
      "text/plain": [
       "<Figure size 1080x576 with 2 Axes>"
      ]
     },
     "metadata": {},
     "output_type": "display_data"
    }
   ],
   "source": [
    "plt.figure(figsize=(15, 8))\n",
    "plt.subplot(121)\n",
    "data[data['Class'] == 0]['Time'].hist(bins = 20)\n",
    "plt.title('Normal')\n",
    "plt.xlabel('Time');\n",
    "plt.subplot(122)\n",
    "data[data['Class'] == 1]['Time'].hist(bins = 20);\n",
    "plt.title('Fraud')\n",
    "plt.xlabel('Time');"
   ]
  },
  {
   "cell_type": "markdown",
   "metadata": {},
   "source": [
    "### Normalization"
   ]
  },
  {
   "cell_type": "code",
   "execution_count": 28,
   "metadata": {},
   "outputs": [
    {
     "name": "stderr",
     "output_type": "stream",
     "text": [
      "/anaconda3/lib/python3.6/site-packages/sklearn/utils/validation.py:475: DataConversionWarning: Data with input dtype int64 was converted to float64 by StandardScaler.\n",
      "  warnings.warn(msg, DataConversionWarning)\n",
      "/anaconda3/lib/python3.6/site-packages/sklearn/utils/validation.py:475: DataConversionWarning: Data with input dtype int64 was converted to float64 by StandardScaler.\n",
      "  warnings.warn(msg, DataConversionWarning)\n"
     ]
    },
    {
     "data": {
      "text/html": [
       "<div>\n",
       "<style scoped>\n",
       "    .dataframe tbody tr th:only-of-type {\n",
       "        vertical-align: middle;\n",
       "    }\n",
       "\n",
       "    .dataframe tbody tr th {\n",
       "        vertical-align: top;\n",
       "    }\n",
       "\n",
       "    .dataframe thead th {\n",
       "        text-align: right;\n",
       "    }\n",
       "</style>\n",
       "<table border=\"1\" class=\"dataframe\">\n",
       "  <thead>\n",
       "    <tr style=\"text-align: right;\">\n",
       "      <th></th>\n",
       "      <th>Id</th>\n",
       "      <th>Time</th>\n",
       "      <th>V1</th>\n",
       "      <th>V2</th>\n",
       "      <th>V3</th>\n",
       "      <th>V4</th>\n",
       "      <th>V5</th>\n",
       "      <th>V6</th>\n",
       "      <th>V7</th>\n",
       "      <th>V8</th>\n",
       "      <th>...</th>\n",
       "      <th>V21</th>\n",
       "      <th>V22</th>\n",
       "      <th>V23</th>\n",
       "      <th>V24</th>\n",
       "      <th>V25</th>\n",
       "      <th>V26</th>\n",
       "      <th>V27</th>\n",
       "      <th>V28</th>\n",
       "      <th>Amount</th>\n",
       "      <th>Class</th>\n",
       "    </tr>\n",
       "  </thead>\n",
       "  <tbody>\n",
       "    <tr>\n",
       "      <th>0</th>\n",
       "      <td>0</td>\n",
       "      <td>-1.997363</td>\n",
       "      <td>-1.359807</td>\n",
       "      <td>-0.072781</td>\n",
       "      <td>2.536347</td>\n",
       "      <td>1.378155</td>\n",
       "      <td>-0.338321</td>\n",
       "      <td>0.462388</td>\n",
       "      <td>0.239599</td>\n",
       "      <td>0.098698</td>\n",
       "      <td>...</td>\n",
       "      <td>-0.018307</td>\n",
       "      <td>0.277838</td>\n",
       "      <td>-0.110474</td>\n",
       "      <td>0.066928</td>\n",
       "      <td>0.128539</td>\n",
       "      <td>-0.189115</td>\n",
       "      <td>0.133558</td>\n",
       "      <td>-0.021053</td>\n",
       "      <td>0.245871</td>\n",
       "      <td>0</td>\n",
       "    </tr>\n",
       "    <tr>\n",
       "      <th>1</th>\n",
       "      <td>1</td>\n",
       "      <td>-1.997363</td>\n",
       "      <td>1.191857</td>\n",
       "      <td>0.266151</td>\n",
       "      <td>0.166480</td>\n",
       "      <td>0.448154</td>\n",
       "      <td>0.060018</td>\n",
       "      <td>-0.082361</td>\n",
       "      <td>-0.078803</td>\n",
       "      <td>0.085102</td>\n",
       "      <td>...</td>\n",
       "      <td>-0.225775</td>\n",
       "      <td>-0.638672</td>\n",
       "      <td>0.101288</td>\n",
       "      <td>-0.339846</td>\n",
       "      <td>0.167170</td>\n",
       "      <td>0.125895</td>\n",
       "      <td>-0.008983</td>\n",
       "      <td>0.014724</td>\n",
       "      <td>-0.340093</td>\n",
       "      <td>0</td>\n",
       "    </tr>\n",
       "    <tr>\n",
       "      <th>2</th>\n",
       "      <td>2</td>\n",
       "      <td>-1.997342</td>\n",
       "      <td>-1.358354</td>\n",
       "      <td>-1.340163</td>\n",
       "      <td>1.773209</td>\n",
       "      <td>0.379780</td>\n",
       "      <td>-0.503198</td>\n",
       "      <td>1.800499</td>\n",
       "      <td>0.791461</td>\n",
       "      <td>0.247676</td>\n",
       "      <td>...</td>\n",
       "      <td>0.247998</td>\n",
       "      <td>0.771679</td>\n",
       "      <td>0.909412</td>\n",
       "      <td>-0.689281</td>\n",
       "      <td>-0.327642</td>\n",
       "      <td>-0.139097</td>\n",
       "      <td>-0.055353</td>\n",
       "      <td>-0.059752</td>\n",
       "      <td>1.159293</td>\n",
       "      <td>0</td>\n",
       "    </tr>\n",
       "    <tr>\n",
       "      <th>3</th>\n",
       "      <td>3</td>\n",
       "      <td>-1.997342</td>\n",
       "      <td>-0.966272</td>\n",
       "      <td>-0.185226</td>\n",
       "      <td>1.792993</td>\n",
       "      <td>-0.863291</td>\n",
       "      <td>-0.010309</td>\n",
       "      <td>1.247203</td>\n",
       "      <td>0.237609</td>\n",
       "      <td>0.377436</td>\n",
       "      <td>...</td>\n",
       "      <td>-0.108300</td>\n",
       "      <td>0.005274</td>\n",
       "      <td>-0.190321</td>\n",
       "      <td>-1.175575</td>\n",
       "      <td>0.647376</td>\n",
       "      <td>-0.221929</td>\n",
       "      <td>0.062723</td>\n",
       "      <td>0.061458</td>\n",
       "      <td>0.141703</td>\n",
       "      <td>0</td>\n",
       "    </tr>\n",
       "    <tr>\n",
       "      <th>4</th>\n",
       "      <td>4</td>\n",
       "      <td>-1.997321</td>\n",
       "      <td>-1.158233</td>\n",
       "      <td>0.877737</td>\n",
       "      <td>1.548718</td>\n",
       "      <td>0.403034</td>\n",
       "      <td>-0.407193</td>\n",
       "      <td>0.095921</td>\n",
       "      <td>0.592941</td>\n",
       "      <td>-0.270533</td>\n",
       "      <td>...</td>\n",
       "      <td>-0.009431</td>\n",
       "      <td>0.798278</td>\n",
       "      <td>-0.137458</td>\n",
       "      <td>0.141267</td>\n",
       "      <td>-0.206010</td>\n",
       "      <td>0.502292</td>\n",
       "      <td>0.219422</td>\n",
       "      <td>0.215153</td>\n",
       "      <td>-0.071697</td>\n",
       "      <td>0</td>\n",
       "    </tr>\n",
       "  </tbody>\n",
       "</table>\n",
       "<p>5 rows × 32 columns</p>\n",
       "</div>"
      ],
      "text/plain": [
       "   Id      Time        V1        V2        V3        V4        V5        V6  \\\n",
       "0   0 -1.997363 -1.359807 -0.072781  2.536347  1.378155 -0.338321  0.462388   \n",
       "1   1 -1.997363  1.191857  0.266151  0.166480  0.448154  0.060018 -0.082361   \n",
       "2   2 -1.997342 -1.358354 -1.340163  1.773209  0.379780 -0.503198  1.800499   \n",
       "3   3 -1.997342 -0.966272 -0.185226  1.792993 -0.863291 -0.010309  1.247203   \n",
       "4   4 -1.997321 -1.158233  0.877737  1.548718  0.403034 -0.407193  0.095921   \n",
       "\n",
       "         V7        V8  ...         V21       V22       V23       V24  \\\n",
       "0  0.239599  0.098698  ...   -0.018307  0.277838 -0.110474  0.066928   \n",
       "1 -0.078803  0.085102  ...   -0.225775 -0.638672  0.101288 -0.339846   \n",
       "2  0.791461  0.247676  ...    0.247998  0.771679  0.909412 -0.689281   \n",
       "3  0.237609  0.377436  ...   -0.108300  0.005274 -0.190321 -1.175575   \n",
       "4  0.592941 -0.270533  ...   -0.009431  0.798278 -0.137458  0.141267   \n",
       "\n",
       "        V25       V26       V27       V28    Amount  Class  \n",
       "0  0.128539 -0.189115  0.133558 -0.021053  0.245871      0  \n",
       "1  0.167170  0.125895 -0.008983  0.014724 -0.340093      0  \n",
       "2 -0.327642 -0.139097 -0.055353 -0.059752  1.159293      0  \n",
       "3  0.647376 -0.221929  0.062723  0.061458  0.141703      0  \n",
       "4 -0.206010  0.502292  0.219422  0.215153 -0.071697      0  \n",
       "\n",
       "[5 rows x 32 columns]"
      ]
     },
     "execution_count": 28,
     "metadata": {},
     "output_type": "execute_result"
    }
   ],
   "source": [
    "from sklearn.preprocessing import StandardScaler\n",
    "\n",
    "data['Amount'] = StandardScaler().fit_transform(data['Amount'].values.reshape(-1, 1))\n",
    "data['Time'] = StandardScaler().fit_transform(data['Time'].values.reshape(-1, 1))\n",
    "data.head()"
   ]
  },
  {
   "cell_type": "code",
   "execution_count": 29,
   "metadata": {},
   "outputs": [
    {
     "data": {
      "image/png": "[encoded data removed]",
      "text/plain": [
       "<Figure size 864x576 with 2 Axes>"
      ]
     },
     "metadata": {},
     "output_type": "display_data"
    }
   ],
   "source": [
    "plt.figure(figsize=(12, 8))\n",
    "plt.subplot(121)\n",
    "data[data['Class'] == 0]['Time'].hist(bins = 20)\n",
    "plt.title('Normal')\n",
    "plt.xlabel('Time');\n",
    "plt.subplot(122)\n",
    "data[data['Class'] == 1]['Time'].hist(bins = 20);\n",
    "plt.title('Fraud')\n",
    "plt.xlabel('Time');"
   ]
  },
  {
   "cell_type": "code",
   "execution_count": 30,
   "metadata": {},
   "outputs": [
    {
     "data": {
      "image/png": "[encoded data removed]",
      "text/plain": [
       "<Figure size 864x576 with 2 Axes>"
      ]
     },
     "metadata": {},
     "output_type": "display_data"
    }
   ],
   "source": [
    "plt.figure(figsize=(12, 8))\n",
    "plt.subplot(121)\n",
    "data[data['Class'] == 0]['Amount'].hist(bins = 20)\n",
    "plt.title('Normal')\n",
    "plt.xlabel('Amount');\n",
    "plt.subplot(122)\n",
    "data[data['Class'] == 1]['Amount'].hist(bins = 20);\n",
    "plt.title('Fraud')\n",
    "plt.xlabel('Amount');"
   ]
  },
  {
   "cell_type": "markdown",
   "metadata": {},
   "source": [
    "## Classifications"
   ]
  },
  {
   "cell_type": "markdown",
   "metadata": {},
   "source": [
    "### Normal"
   ]
  },
  {
   "cell_type": "code",
   "execution_count": 32,
   "metadata": {},
   "outputs": [],
   "source": [
    "from sklearn.linear_model import LogisticRegression\n",
    "from sklearn.tree import DecisionTreeClassifier\n",
    "from sklearn.ensemble import RandomForestClassifier\n",
    "from sklearn.ensemble import VotingClassifier\n",
    "import xgboost as xgb\n",
    "import matplotlib.pyplot as plt"
   ]
  },
  {
   "cell_type": "code",
   "execution_count": 34,
   "metadata": {},
   "outputs": [],
   "source": [
    "X = data.iloc[:,1:31]\n",
    "y = data['Class']\n",
    "y = np.ravel(y) \n",
    "#Xtrain,Xtest,ytrain,ytest=train_test_split(X, y, test_size=0.2, random_state=3)"
   ]
  },
  {
   "cell_type": "code",
   "execution_count": 54,
   "metadata": {},
   "outputs": [],
   "source": [
    "from sklearn import metrics \n",
    "from sklearn.model_selection import  KFold, train_test_split, cross_val_score \n",
    "\n",
    "\n",
    "def model_score(model, X,y):\n",
    "    kf = KFold(n_splits=3, shuffle=True, random_state=0)\n",
    "    m_score = cross_val_score(model, X, y, scoring=\"accuracy\", cv=kf)\n",
    "    f1_score = cross_val_score(model, X, y, scoring=\"f1\", cv=kf)\n",
    "    return (m_score.mean(), f1_score.mean())\n",
    "    #return f1_score.mean()"
   ]
  },
  {
   "cell_type": "code",
   "execution_count": 77,
   "metadata": {},
   "outputs": [
    {
     "data": {
      "text/html": [
       "<div>\n",
       "<style scoped>\n",
       "    .dataframe tbody tr th:only-of-type {\n",
       "        vertical-align: middle;\n",
       "    }\n",
       "\n",
       "    .dataframe tbody tr th {\n",
       "        vertical-align: top;\n",
       "    }\n",
       "\n",
       "    .dataframe thead th {\n",
       "        text-align: right;\n",
       "    }\n",
       "</style>\n",
       "<table border=\"1\" class=\"dataframe\">\n",
       "  <thead>\n",
       "    <tr style=\"text-align: right;\">\n",
       "      <th></th>\n",
       "      <th>Model</th>\n",
       "      <th>Accuracy, F1 score</th>\n",
       "    </tr>\n",
       "  </thead>\n",
       "  <tbody>\n",
       "    <tr>\n",
       "      <th>0</th>\n",
       "      <td>LogisticRegression(C=1.0, class_weight=None, d...</td>\n",
       "      <td>(0.999218575161897, 0.7386469772400592)</td>\n",
       "    </tr>\n",
       "    <tr>\n",
       "      <th>1</th>\n",
       "      <td>DecisionTreeClassifier(class_weight=None, crit...</td>\n",
       "      <td>(0.9990210236302054, 0.7124466795809425)</td>\n",
       "    </tr>\n",
       "  </tbody>\n",
       "</table>\n",
       "</div>"
      ],
      "text/plain": [
       "                                               Model  \\\n",
       "0  LogisticRegression(C=1.0, class_weight=None, d...   \n",
       "1  DecisionTreeClassifier(class_weight=None, crit...   \n",
       "\n",
       "                         Accuracy, F1 score  \n",
       "0   (0.999218575161897, 0.7386469772400592)  \n",
       "1  (0.9990210236302054, 0.7124466795809425)  "
      ]
     },
     "execution_count": 77,
     "metadata": {},
     "output_type": "execute_result"
    }
   ],
   "source": [
    "\n",
    "from sklearn.linear_model import LogisticRegression as LR\n",
    "from sklearn.neighbors import KNeighborsClassifier as KN\n",
    "from sklearn.tree import DecisionTreeClassifier as DT\n",
    "from sklearn.ensemble import RandomForestClassifier as RF\n",
    "from sklearn.svm import SVC as SVC\n",
    "# from sklearn.ensemble import GradientBoostingClassifier as GB\n",
    "# from sklearn.neural_network import MLPClassifier as MLP\n",
    "\n",
    "#model_list = [LR(),KN(),DT(),RF(),GB(),MLP()]\n",
    "model_list = [LR(), DT()]\n",
    "\n",
    "\n",
    "score_l = []\n",
    "for model in model_list:\n",
    "    score_l.append(model_score(model, X, y))\n",
    "    \n",
    "d={'Model':model_list,'Accuracy, F1 score':score_l}   \n",
    "res_frame=pd.DataFrame(d)\n",
    "res_frame\n",
    "\n"
   ]
  },
  {
   "cell_type": "code",
   "execution_count": null,
   "metadata": {},
   "outputs": [],
   "source": [
    "def generateReport(model_type, ground_truth, predict):\n",
    "    scores.append((model_type, f1_score(ground_truth, predict), \n",
    "                 precision_score(ground_truth, predict),\n",
    "                 recall_score(ground_truth, predict),\n",
    "                 accuracy_score(ground_truth, predict)))\n",
    "    \n",
    "# for key, classifier in classifiers.items():\n",
    "#     print(key)\n",
    "#     classifier.fit(X_train, y_train.values.ravel())\n",
    "#     classifier_pred = classifier.predict(X_test)\n",
    "#     print(classification_report(y_test, classifier_pred))\n",
    "\n",
    "# model = RandomForestClassifier(n_estimators = 200, \n",
    "#                                  max_features = 3, \n",
    "#                                  min_samples_leaf = 1, \n",
    "#                                  min_samples_split = 2, \n",
    "#                                  n_jobs = -1,\n",
    "#                                 random_state = 42)\n",
    "\n",
    "\n",
    "xgb_cfl = xgb.XGBClassifier(n_jobs = -1)\n",
    "log_cfl = LogisticRegression()\n",
    "rf_cfl = RandomForestClassifier(n_jobs = -1,\n",
    "                                random_state = 42)\n",
    "model = VotingClassifier (estimators = [('xgb', xgb_cfl), ('lt', log_cfl), ('rf', rf_cfl)],\n",
    "                     voting='soft', weights = [1, 1, 1.33])\n",
    "                    \n",
    "                    \n",
    "                    \n",
    "model.fit(X, y)\n",
    "ypred = model.predict(Xtest)\n"
   ]
  },
  {
   "cell_type": "code",
   "execution_count": null,
   "metadata": {},
   "outputs": [],
   "source": [
    "\n"
   ]
  },
  {
   "cell_type": "code",
   "execution_count": null,
   "metadata": {},
   "outputs": [],
   "source": []
  },
  {
   "cell_type": "code",
   "execution_count": null,
   "metadata": {},
   "outputs": [],
   "source": []
  },
  {
   "cell_type": "code",
   "execution_count": null,
   "metadata": {},
   "outputs": [],
   "source": []
  },
  {
   "cell_type": "code",
   "execution_count": 26,
   "metadata": {},
   "outputs": [],
   "source": []
  },
  {
   "cell_type": "markdown",
   "metadata": {},
   "source": [
    "### Undersampling the Majority Class"
   ]
  },
  {
   "cell_type": "code",
   "execution_count": 52,
   "metadata": {},
   "outputs": [
    {
     "name": "stdout",
     "output_type": "stream",
     "text": [
      "(790, 32)\n"
     ]
    },
    {
     "data": {
      "text/html": [
       "<div>\n",
       "<style scoped>\n",
       "    .dataframe tbody tr th:only-of-type {\n",
       "        vertical-align: middle;\n",
       "    }\n",
       "\n",
       "    .dataframe tbody tr th {\n",
       "        vertical-align: top;\n",
       "    }\n",
       "\n",
       "    .dataframe thead th {\n",
       "        text-align: right;\n",
       "    }\n",
       "</style>\n",
       "<table border=\"1\" class=\"dataframe\">\n",
       "  <thead>\n",
       "    <tr style=\"text-align: right;\">\n",
       "      <th></th>\n",
       "      <th>Id</th>\n",
       "      <th>Time</th>\n",
       "      <th>V1</th>\n",
       "      <th>V2</th>\n",
       "      <th>V3</th>\n",
       "      <th>V4</th>\n",
       "      <th>V5</th>\n",
       "      <th>V6</th>\n",
       "      <th>V7</th>\n",
       "      <th>V8</th>\n",
       "      <th>...</th>\n",
       "      <th>V21</th>\n",
       "      <th>V22</th>\n",
       "      <th>V23</th>\n",
       "      <th>V24</th>\n",
       "      <th>V25</th>\n",
       "      <th>V26</th>\n",
       "      <th>V27</th>\n",
       "      <th>V28</th>\n",
       "      <th>Amount</th>\n",
       "      <th>Class</th>\n",
       "    </tr>\n",
       "  </thead>\n",
       "  <tbody>\n",
       "    <tr>\n",
       "      <th>123893</th>\n",
       "      <td>155057</td>\n",
       "      <td>0.198733</td>\n",
       "      <td>-0.541021</td>\n",
       "      <td>-1.406677</td>\n",
       "      <td>0.975383</td>\n",
       "      <td>-1.504580</td>\n",
       "      <td>-1.042517</td>\n",
       "      <td>-0.498811</td>\n",
       "      <td>-0.494168</td>\n",
       "      <td>-1.034032</td>\n",
       "      <td>...</td>\n",
       "      <td>1.191179</td>\n",
       "      <td>0.199235</td>\n",
       "      <td>-1.009762</td>\n",
       "      <td>-0.024477</td>\n",
       "      <td>0.847481</td>\n",
       "      <td>-0.106353</td>\n",
       "      <td>0.049212</td>\n",
       "      <td>0.268114</td>\n",
       "      <td>1.220788</td>\n",
       "      <td>0</td>\n",
       "    </tr>\n",
       "    <tr>\n",
       "      <th>151596</th>\n",
       "      <td>189701</td>\n",
       "      <td>0.708600</td>\n",
       "      <td>-4.599447</td>\n",
       "      <td>2.762540</td>\n",
       "      <td>-4.656530</td>\n",
       "      <td>5.201403</td>\n",
       "      <td>-2.470388</td>\n",
       "      <td>-0.357618</td>\n",
       "      <td>-3.767189</td>\n",
       "      <td>0.061466</td>\n",
       "      <td>...</td>\n",
       "      <td>1.581480</td>\n",
       "      <td>0.261333</td>\n",
       "      <td>0.621415</td>\n",
       "      <td>0.994110</td>\n",
       "      <td>-0.687853</td>\n",
       "      <td>-0.337531</td>\n",
       "      <td>-1.612791</td>\n",
       "      <td>1.231425</td>\n",
       "      <td>0.021463</td>\n",
       "      <td>1</td>\n",
       "    </tr>\n",
       "    <tr>\n",
       "      <th>120806</th>\n",
       "      <td>151196</td>\n",
       "      <td>0.001848</td>\n",
       "      <td>0.842025</td>\n",
       "      <td>-0.365518</td>\n",
       "      <td>-2.464063</td>\n",
       "      <td>4.820886</td>\n",
       "      <td>0.775505</td>\n",
       "      <td>-0.614785</td>\n",
       "      <td>1.368024</td>\n",
       "      <td>-0.526262</td>\n",
       "      <td>...</td>\n",
       "      <td>-0.110622</td>\n",
       "      <td>-1.257800</td>\n",
       "      <td>-0.324418</td>\n",
       "      <td>-0.420020</td>\n",
       "      <td>-0.219501</td>\n",
       "      <td>-0.268873</td>\n",
       "      <td>-0.144582</td>\n",
       "      <td>0.104464</td>\n",
       "      <td>1.928268</td>\n",
       "      <td>1</td>\n",
       "    </tr>\n",
       "    <tr>\n",
       "      <th>31262</th>\n",
       "      <td>39183</td>\n",
       "      <td>-1.160870</td>\n",
       "      <td>-0.964567</td>\n",
       "      <td>-1.643541</td>\n",
       "      <td>-0.187727</td>\n",
       "      <td>1.158253</td>\n",
       "      <td>-2.458336</td>\n",
       "      <td>0.852222</td>\n",
       "      <td>2.785163</td>\n",
       "      <td>-0.303609</td>\n",
       "      <td>...</td>\n",
       "      <td>0.447180</td>\n",
       "      <td>0.536204</td>\n",
       "      <td>1.634061</td>\n",
       "      <td>0.203839</td>\n",
       "      <td>0.218749</td>\n",
       "      <td>-0.221886</td>\n",
       "      <td>-0.308555</td>\n",
       "      <td>-0.164500</td>\n",
       "      <td>2.747213</td>\n",
       "      <td>1</td>\n",
       "    </tr>\n",
       "    <tr>\n",
       "      <th>192015</th>\n",
       "      <td>240222</td>\n",
       "      <td>1.171283</td>\n",
       "      <td>1.852889</td>\n",
       "      <td>1.069593</td>\n",
       "      <td>-1.776101</td>\n",
       "      <td>4.617410</td>\n",
       "      <td>0.770413</td>\n",
       "      <td>-0.400859</td>\n",
       "      <td>-0.040970</td>\n",
       "      <td>0.089510</td>\n",
       "      <td>...</td>\n",
       "      <td>-0.157869</td>\n",
       "      <td>-0.176244</td>\n",
       "      <td>0.027437</td>\n",
       "      <td>-0.468006</td>\n",
       "      <td>0.058063</td>\n",
       "      <td>0.148263</td>\n",
       "      <td>0.042278</td>\n",
       "      <td>0.040573</td>\n",
       "      <td>-0.346833</td>\n",
       "      <td>1</td>\n",
       "    </tr>\n",
       "  </tbody>\n",
       "</table>\n",
       "<p>5 rows × 32 columns</p>\n",
       "</div>"
      ],
      "text/plain": [
       "            Id      Time        V1        V2        V3        V4        V5  \\\n",
       "123893  155057  0.198733 -0.541021 -1.406677  0.975383 -1.504580 -1.042517   \n",
       "151596  189701  0.708600 -4.599447  2.762540 -4.656530  5.201403 -2.470388   \n",
       "120806  151196  0.001848  0.842025 -0.365518 -2.464063  4.820886  0.775505   \n",
       "31262    39183 -1.160870 -0.964567 -1.643541 -0.187727  1.158253 -2.458336   \n",
       "192015  240222  1.171283  1.852889  1.069593 -1.776101  4.617410  0.770413   \n",
       "\n",
       "              V6        V7        V8  ...         V21       V22       V23  \\\n",
       "123893 -0.498811 -0.494168 -1.034032  ...    1.191179  0.199235 -1.009762   \n",
       "151596 -0.357618 -3.767189  0.061466  ...    1.581480  0.261333  0.621415   \n",
       "120806 -0.614785  1.368024 -0.526262  ...   -0.110622 -1.257800 -0.324418   \n",
       "31262   0.852222  2.785163 -0.303609  ...    0.447180  0.536204  1.634061   \n",
       "192015 -0.400859 -0.040970  0.089510  ...   -0.157869 -0.176244  0.027437   \n",
       "\n",
       "             V24       V25       V26       V27       V28    Amount  Class  \n",
       "123893 -0.024477  0.847481 -0.106353  0.049212  0.268114  1.220788      0  \n",
       "151596  0.994110 -0.687853 -0.337531 -1.612791  1.231425  0.021463      1  \n",
       "120806 -0.420020 -0.219501 -0.268873 -0.144582  0.104464  1.928268      1  \n",
       "31262   0.203839  0.218749 -0.221886 -0.308555 -0.164500  2.747213      1  \n",
       "192015 -0.468006  0.058063  0.148263  0.042278  0.040573 -0.346833      1  \n",
       "\n",
       "[5 rows x 32 columns]"
      ]
     },
     "execution_count": 52,
     "metadata": {},
     "output_type": "execute_result"
    }
   ],
   "source": [
    "data = data.sample(frac=1) # shuffle the data\n",
    "fraud_df = data.loc[data['Class'] == 1]\n",
    "normal_df = data.loc[data['Class'] == 0][:395]\n",
    "\n",
    "normal_dis_df = pd.concat([fraud_df, normal_df])\n",
    "\n",
    "# shuffle the rows\n",
    "new_df = normal_dis_df.sample(frac=1, random_state=42)\n",
    "print(new_df.shape)\n",
    "new_df.head()"
   ]
  },
  {
   "cell_type": "code",
   "execution_count": 53,
   "metadata": {},
   "outputs": [],
   "source": [
    "X_under = new_df.iloc[:,1:31]\n",
    "y_under = new_df['Class']\n",
    "y_under = np.ravel(y_under) "
   ]
  },
  {
   "cell_type": "code",
   "execution_count": 55,
   "metadata": {},
   "outputs": [
    {
     "data": {
      "text/html": [
       "<div>\n",
       "<style scoped>\n",
       "    .dataframe tbody tr th:only-of-type {\n",
       "        vertical-align: middle;\n",
       "    }\n",
       "\n",
       "    .dataframe tbody tr th {\n",
       "        vertical-align: top;\n",
       "    }\n",
       "\n",
       "    .dataframe thead th {\n",
       "        text-align: right;\n",
       "    }\n",
       "</style>\n",
       "<table border=\"1\" class=\"dataframe\">\n",
       "  <thead>\n",
       "    <tr style=\"text-align: right;\">\n",
       "      <th></th>\n",
       "      <th>Model</th>\n",
       "      <th>Accuracy, F1 score</th>\n",
       "    </tr>\n",
       "  </thead>\n",
       "  <tbody>\n",
       "    <tr>\n",
       "      <th>0</th>\n",
       "      <td>LogisticRegression(C=1.0, class_weight=None, d...</td>\n",
       "      <td>(0.9303779237239315, 0.9281623346139476)</td>\n",
       "    </tr>\n",
       "    <tr>\n",
       "      <th>1</th>\n",
       "      <td>DecisionTreeClassifier(class_weight=None, crit...</td>\n",
       "      <td>(0.9075546337903752, 0.9077300150829563)</td>\n",
       "    </tr>\n",
       "  </tbody>\n",
       "</table>\n",
       "</div>"
      ],
      "text/plain": [
       "                                               Model  \\\n",
       "0  LogisticRegression(C=1.0, class_weight=None, d...   \n",
       "1  DecisionTreeClassifier(class_weight=None, crit...   \n",
       "\n",
       "                         Accuracy, F1 score  \n",
       "0  (0.9303779237239315, 0.9281623346139476)  \n",
       "1  (0.9075546337903752, 0.9077300150829563)  "
      ]
     },
     "execution_count": 55,
     "metadata": {},
     "output_type": "execute_result"
    }
   ],
   "source": [
    "model_list = [LR(), DT()]\n",
    "\n",
    "\n",
    "score_l = []\n",
    "for model in model_list:\n",
    "    score_l.append(model_score(model, X_under, y_under))\n",
    "    \n",
    "d={'Model':model_list,'Accuracy, F1 score':score_l}   \n",
    "res_frame=pd.DataFrame(d)\n",
    "res_frame"
   ]
  },
  {
   "cell_type": "markdown",
   "metadata": {},
   "source": [
    "### Oversampling the Minority Class"
   ]
  },
  {
   "cell_type": "code",
   "execution_count": 58,
   "metadata": {},
   "outputs": [
    {
     "data": {
      "text/plain": [
       "(454788, 454788)"
      ]
     },
     "execution_count": 58,
     "metadata": {},
     "output_type": "execute_result"
    }
   ],
   "source": [
    "from imblearn.over_sampling import SMOTE\n",
    "\n",
    "sm = SMOTE(random_state=2)\n",
    "X_over, y_over = sm.fit_sample(X, y)\n",
    "len(X_over), len(y_over)"
   ]
  },
  {
   "cell_type": "code",
   "execution_count": 59,
   "metadata": {},
   "outputs": [
    {
     "data": {
      "text/html": [
       "<div>\n",
       "<style scoped>\n",
       "    .dataframe tbody tr th:only-of-type {\n",
       "        vertical-align: middle;\n",
       "    }\n",
       "\n",
       "    .dataframe tbody tr th {\n",
       "        vertical-align: top;\n",
       "    }\n",
       "\n",
       "    .dataframe thead th {\n",
       "        text-align: right;\n",
       "    }\n",
       "</style>\n",
       "<table border=\"1\" class=\"dataframe\">\n",
       "  <thead>\n",
       "    <tr style=\"text-align: right;\">\n",
       "      <th></th>\n",
       "      <th>Model</th>\n",
       "      <th>Accuracy, F1 score</th>\n",
       "    </tr>\n",
       "  </thead>\n",
       "  <tbody>\n",
       "    <tr>\n",
       "      <th>0</th>\n",
       "      <td>LogisticRegression(C=1.0, class_weight=None, d...</td>\n",
       "      <td>(0.9521711214895731, 0.9510407404751574)</td>\n",
       "    </tr>\n",
       "    <tr>\n",
       "      <th>1</th>\n",
       "      <td>DecisionTreeClassifier(class_weight=None, crit...</td>\n",
       "      <td>(0.9978935240155854, 0.9978296998094233)</td>\n",
       "    </tr>\n",
       "  </tbody>\n",
       "</table>\n",
       "</div>"
      ],
      "text/plain": [
       "                                               Model  \\\n",
       "0  LogisticRegression(C=1.0, class_weight=None, d...   \n",
       "1  DecisionTreeClassifier(class_weight=None, crit...   \n",
       "\n",
       "                         Accuracy, F1 score  \n",
       "0  (0.9521711214895731, 0.9510407404751574)  \n",
       "1  (0.9978935240155854, 0.9978296998094233)  "
      ]
     },
     "execution_count": 59,
     "metadata": {},
     "output_type": "execute_result"
    }
   ],
   "source": [
    "model_list = [LR(), DT()]\n",
    "\n",
    "\n",
    "score_l = []\n",
    "for model in model_list:\n",
    "    score_l.append(model_score(model, X_over, y_over))\n",
    "    \n",
    "d={'Model':model_list,'Accuracy, F1 score':score_l}   \n",
    "res_frame=pd.DataFrame(d)\n",
    "res_frame"
   ]
  },
  {
   "cell_type": "markdown",
   "metadata": {},
   "source": [
    "## ROC Curve"
   ]
  },
  {
   "cell_type": "code",
   "execution_count": 94,
   "metadata": {},
   "outputs": [],
   "source": [
    "from sklearn.metrics import roc_curve\n",
    "from sklearn.model_selection import cross_val_predict\n",
    "from sklearn.metrics import roc_auc_score\n",
    "import re\n",
    "\n",
    "\n",
    "def plot_roc(model, X, y):\n",
    "    pred = cross_val_predict(model, X, y, cv=5, method=\"decision_function\")\n",
    "    fpr, tpr, thresold = roc_curve(y, pred)\n",
    "    classifier_name = re.sub(r'\\([^)]*\\)', '', str(model))\n",
    "    plt.plot(fpr, tpr, label=classifier_name+' Score: {:.4f}'.format(roc_auc_score(y, pred)))\n",
    "    \n",
    "    \n",
    "    \n",
    "\n"
   ]
  },
  {
   "cell_type": "code",
   "execution_count": 97,
   "metadata": {},
   "outputs": [
    {
     "data": {
      "text/plain": [
       "<matplotlib.legend.Legend at 0x1a1ce40080>"
      ]
     },
     "execution_count": 97,
     "metadata": {},
     "output_type": "execute_result"
    },
    {
     "data": {
      "image/png": "[encoded data removed]",
      "text/plain": [
       "<Figure size 1152x576 with 1 Axes>"
      ]
     },
     "metadata": {},
     "output_type": "display_data"
    }
   ],
   "source": [
    "model_list = [LR(),SVC()]\n",
    "\n",
    "plt.figure(figsize=(16,8))\n",
    "plt.title('ROC Curve', fontsize=18)\n",
    "plt.plot([0, 1], [0, 1], 'k--')\n",
    "plt.axis([-0.01, 1, 0, 1])\n",
    "plt.xlabel('False Positive Rate', fontsize=16)\n",
    "plt.ylabel('True Positive Rate', fontsize=16)\n",
    "plt.annotate('Minimum ROC Score of 50% \\n (This is the minimum score to get)', xy=(0.5, 0.5), xytext=(0.6, 0.3),\n",
    "                arrowprops=dict(facecolor='#6E726D', shrink=0.05),)\n",
    "\n",
    "\n",
    "for model in model_list:\n",
    "    plot_roc(model, X_under, y_under)\n",
    "    #plot_roc(model, X, y)\n",
    "\n",
    "plt.legend()"
   ]
  },
  {
   "cell_type": "code",
   "execution_count": null,
   "metadata": {},
   "outputs": [],
   "source": []
  },
  {
   "cell_type": "code",
   "execution_count": null,
   "metadata": {},
   "outputs": [],
   "source": []
  },
  {
   "cell_type": "markdown",
   "metadata": {},
   "source": [
    "## Tune Hyperparameters"
   ]
  },
  {
   "cell_type": "code",
   "execution_count": 64,
   "metadata": {},
   "outputs": [
    {
     "name": "stdout",
     "output_type": "stream",
     "text": [
      "Fitting 3 folds for each of 12 candidates, totalling 36 fits\n"
     ]
    },
    {
     "name": "stderr",
     "output_type": "stream",
     "text": [
      "/anaconda3/lib/python3.6/site-packages/sklearn/metrics/classification.py:1135: UndefinedMetricWarning: F-score is ill-defined and being set to 0.0 due to no predicted samples.\n",
      "  'precision', 'predicted', average, warn_for)\n",
      "/anaconda3/lib/python3.6/site-packages/sklearn/metrics/classification.py:1135: UndefinedMetricWarning: F-score is ill-defined and being set to 0.0 due to no predicted samples.\n",
      "  'precision', 'predicted', average, warn_for)\n",
      "/anaconda3/lib/python3.6/site-packages/sklearn/metrics/classification.py:1135: UndefinedMetricWarning: F-score is ill-defined and being set to 0.0 due to no predicted samples.\n",
      "  'precision', 'predicted', average, warn_for)\n",
      "/anaconda3/lib/python3.6/site-packages/sklearn/metrics/classification.py:1135: UndefinedMetricWarning: F-score is ill-defined and being set to 0.0 due to no predicted samples.\n",
      "  'precision', 'predicted', average, warn_for)\n",
      "/anaconda3/lib/python3.6/site-packages/sklearn/metrics/classification.py:1135: UndefinedMetricWarning: F-score is ill-defined and being set to 0.0 due to no predicted samples.\n",
      "  'precision', 'predicted', average, warn_for)\n",
      "/anaconda3/lib/python3.6/site-packages/sklearn/metrics/classification.py:1135: UndefinedMetricWarning: F-score is ill-defined and being set to 0.0 due to no predicted samples.\n",
      "  'precision', 'predicted', average, warn_for)\n",
      "[Parallel(n_jobs=1)]: Done  36 out of  36 | elapsed:    0.9s finished\n"
     ]
    },
    {
     "name": "stdout",
     "output_type": "stream",
     "text": [
      "Fitting 3 folds for each of 42 candidates, totalling 126 fits\n"
     ]
    },
    {
     "name": "stderr",
     "output_type": "stream",
     "text": [
      "[Parallel(n_jobs=1)]: Done 126 out of 126 | elapsed:    1.7s finished\n"
     ]
    },
    {
     "name": "stdout",
     "output_type": "stream",
     "text": [
      "Fitting 3 folds for each of 42 candidates, totalling 126 fits\n"
     ]
    },
    {
     "name": "stderr",
     "output_type": "stream",
     "text": [
      "[Parallel(n_jobs=1)]: Done 126 out of 126 | elapsed:    3.4s finished\n"
     ]
    },
    {
     "name": "stdout",
     "output_type": "stream",
     "text": [
      "Fitting 3 folds for each of 4 candidates, totalling 12 fits\n"
     ]
    },
    {
     "name": "stderr",
     "output_type": "stream",
     "text": [
      "/anaconda3/lib/python3.6/site-packages/sklearn/neural_network/multilayer_perceptron.py:564: ConvergenceWarning: Stochastic Optimizer: Maximum iterations (200) reached and the optimization hasn't converged yet.\n",
      "  % self.max_iter, ConvergenceWarning)\n",
      "/anaconda3/lib/python3.6/site-packages/sklearn/neural_network/multilayer_perceptron.py:564: ConvergenceWarning: Stochastic Optimizer: Maximum iterations (200) reached and the optimization hasn't converged yet.\n",
      "  % self.max_iter, ConvergenceWarning)\n",
      "/anaconda3/lib/python3.6/site-packages/sklearn/neural_network/multilayer_perceptron.py:564: ConvergenceWarning: Stochastic Optimizer: Maximum iterations (200) reached and the optimization hasn't converged yet.\n",
      "  % self.max_iter, ConvergenceWarning)\n",
      "/anaconda3/lib/python3.6/site-packages/sklearn/neural_network/multilayer_perceptron.py:564: ConvergenceWarning: Stochastic Optimizer: Maximum iterations (200) reached and the optimization hasn't converged yet.\n",
      "  % self.max_iter, ConvergenceWarning)\n",
      "/anaconda3/lib/python3.6/site-packages/sklearn/neural_network/multilayer_perceptron.py:564: ConvergenceWarning: Stochastic Optimizer: Maximum iterations (200) reached and the optimization hasn't converged yet.\n",
      "  % self.max_iter, ConvergenceWarning)\n",
      "/anaconda3/lib/python3.6/site-packages/sklearn/neural_network/multilayer_perceptron.py:564: ConvergenceWarning: Stochastic Optimizer: Maximum iterations (200) reached and the optimization hasn't converged yet.\n",
      "  % self.max_iter, ConvergenceWarning)\n",
      "/anaconda3/lib/python3.6/site-packages/sklearn/neural_network/multilayer_perceptron.py:564: ConvergenceWarning: Stochastic Optimizer: Maximum iterations (200) reached and the optimization hasn't converged yet.\n",
      "  % self.max_iter, ConvergenceWarning)\n",
      "/anaconda3/lib/python3.6/site-packages/sklearn/neural_network/multilayer_perceptron.py:564: ConvergenceWarning: Stochastic Optimizer: Maximum iterations (200) reached and the optimization hasn't converged yet.\n",
      "  % self.max_iter, ConvergenceWarning)\n",
      "/anaconda3/lib/python3.6/site-packages/sklearn/neural_network/multilayer_perceptron.py:564: ConvergenceWarning: Stochastic Optimizer: Maximum iterations (200) reached and the optimization hasn't converged yet.\n",
      "  % self.max_iter, ConvergenceWarning)\n",
      "/anaconda3/lib/python3.6/site-packages/sklearn/neural_network/multilayer_perceptron.py:564: ConvergenceWarning: Stochastic Optimizer: Maximum iterations (200) reached and the optimization hasn't converged yet.\n",
      "  % self.max_iter, ConvergenceWarning)\n",
      "/anaconda3/lib/python3.6/site-packages/sklearn/neural_network/multilayer_perceptron.py:564: ConvergenceWarning: Stochastic Optimizer: Maximum iterations (200) reached and the optimization hasn't converged yet.\n",
      "  % self.max_iter, ConvergenceWarning)\n",
      "/anaconda3/lib/python3.6/site-packages/sklearn/neural_network/multilayer_perceptron.py:564: ConvergenceWarning: Stochastic Optimizer: Maximum iterations (200) reached and the optimization hasn't converged yet.\n",
      "  % self.max_iter, ConvergenceWarning)\n",
      "[Parallel(n_jobs=1)]: Done  12 out of  12 | elapsed:    4.2s finished\n",
      "/anaconda3/lib/python3.6/site-packages/sklearn/neural_network/multilayer_perceptron.py:564: ConvergenceWarning: Stochastic Optimizer: Maximum iterations (200) reached and the optimization hasn't converged yet.\n",
      "  % self.max_iter, ConvergenceWarning)\n",
      "/anaconda3/lib/python3.6/site-packages/sklearn/neural_network/multilayer_perceptron.py:564: ConvergenceWarning: Stochastic Optimizer: Maximum iterations (200) reached and the optimization hasn't converged yet.\n",
      "  % self.max_iter, ConvergenceWarning)\n",
      "/anaconda3/lib/python3.6/site-packages/sklearn/neural_network/multilayer_perceptron.py:564: ConvergenceWarning: Stochastic Optimizer: Maximum iterations (200) reached and the optimization hasn't converged yet.\n",
      "  % self.max_iter, ConvergenceWarning)\n",
      "/anaconda3/lib/python3.6/site-packages/sklearn/neural_network/multilayer_perceptron.py:564: ConvergenceWarning: Stochastic Optimizer: Maximum iterations (200) reached and the optimization hasn't converged yet.\n",
      "  % self.max_iter, ConvergenceWarning)\n",
      "/anaconda3/lib/python3.6/site-packages/sklearn/neural_network/multilayer_perceptron.py:564: ConvergenceWarning: Stochastic Optimizer: Maximum iterations (200) reached and the optimization hasn't converged yet.\n",
      "  % self.max_iter, ConvergenceWarning)\n",
      "/anaconda3/lib/python3.6/site-packages/sklearn/neural_network/multilayer_perceptron.py:564: ConvergenceWarning: Stochastic Optimizer: Maximum iterations (200) reached and the optimization hasn't converged yet.\n",
      "  % self.max_iter, ConvergenceWarning)\n",
      "/anaconda3/lib/python3.6/site-packages/sklearn/neural_network/multilayer_perceptron.py:564: ConvergenceWarning: Stochastic Optimizer: Maximum iterations (200) reached and the optimization hasn't converged yet.\n",
      "  % self.max_iter, ConvergenceWarning)\n"
     ]
    },
    {
     "data": {
      "text/html": [
       "<div>\n",
       "<style scoped>\n",
       "    .dataframe tbody tr th:only-of-type {\n",
       "        vertical-align: middle;\n",
       "    }\n",
       "\n",
       "    .dataframe tbody tr th {\n",
       "        vertical-align: top;\n",
       "    }\n",
       "\n",
       "    .dataframe thead th {\n",
       "        text-align: right;\n",
       "    }\n",
       "</style>\n",
       "<table border=\"1\" class=\"dataframe\">\n",
       "  <thead>\n",
       "    <tr style=\"text-align: right;\">\n",
       "      <th></th>\n",
       "      <th>Model</th>\n",
       "      <th>Accuracy, F1 score</th>\n",
       "    </tr>\n",
       "  </thead>\n",
       "  <tbody>\n",
       "    <tr>\n",
       "      <th>0</th>\n",
       "      <td>LogisticRegression(C=1.0, class_weight=None, d...</td>\n",
       "      <td>(0.9354332296347505, 0.9332752091599099)</td>\n",
       "    </tr>\n",
       "    <tr>\n",
       "      <th>1</th>\n",
       "      <td>DecisionTreeClassifier(class_weight=None, crit...</td>\n",
       "      <td>(0.9088412643545724, 0.9086252091217334)</td>\n",
       "    </tr>\n",
       "    <tr>\n",
       "      <th>2</th>\n",
       "      <td>RandomForestClassifier(bootstrap=True, class_w...</td>\n",
       "      <td>(0.9252986135115413, 0.9297780051949088)</td>\n",
       "    </tr>\n",
       "    <tr>\n",
       "      <th>3</th>\n",
       "      <td>MLPClassifier(activation='relu', alpha=0.0001,...</td>\n",
       "      <td>(0.9329175788301263, 0.9309336913899653)</td>\n",
       "    </tr>\n",
       "  </tbody>\n",
       "</table>\n",
       "</div>"
      ],
      "text/plain": [
       "                                               Model  \\\n",
       "0  LogisticRegression(C=1.0, class_weight=None, d...   \n",
       "1  DecisionTreeClassifier(class_weight=None, crit...   \n",
       "2  RandomForestClassifier(bootstrap=True, class_w...   \n",
       "3  MLPClassifier(activation='relu', alpha=0.0001,...   \n",
       "\n",
       "                         Accuracy, F1 score  \n",
       "0  (0.9354332296347505, 0.9332752091599099)  \n",
       "1  (0.9088412643545724, 0.9086252091217334)  \n",
       "2  (0.9252986135115413, 0.9297780051949088)  \n",
       "3  (0.9329175788301263, 0.9309336913899653)  "
      ]
     },
     "execution_count": 64,
     "metadata": {},
     "output_type": "execute_result"
    }
   ],
   "source": [
    "from sklearn.model_selection import GridSearchCV\n",
    "\n",
    "\n",
    "def tuned_score(model, test_dic, X, y):\n",
    "    gs = GridSearchCV(model, scoring=\"f1\", cv=3, verbose=1,param_grid=test_dic,)\n",
    "    gs.fit(X, y)\n",
    "    return model_score(gs.best_estimator_, X, y)\n",
    "    \n",
    "LR_dic = {\"penalty\": [\"l1\",\"l2\"],\"C\":[0.001, 0.1, 1, 10, 50, 100]} #\"solver\":[\"newton-cg\", \"lbfgs\", \"liblinear\", \"sag\", \"saga\"]\n",
    "KN_dic = {\"n_neighbors\":[1,3,5,7,9], }\n",
    "DT_dic = {\"max_depth\": [2, 5, 10, 20, 50, 100, None],\"min_samples_split\":[2, 5, 10, 20, 50, 100]}\n",
    "RF_dic = {\"max_depth\": [2, 5, 10, 20, 50, 100, None],\"min_samples_split\":[2, 5, 10, 20, 50, 100]}\n",
    "#GB_dic = {\"learning_rate\": [0.1, 0.5, 1, 5],\"min_samples_split\":[2, 5, 10],\"max_depth\": [2, 5, 10, None]}\n",
    "#GB_dic = {\"learning_rate\": [0.1, 0.5, 1, 5],\"min_samples_split\":[2, 5, 10, 20, 50, 100],\"max_depth\": [2, 5, 10, 20, 50, 100, None]}\n",
    "MLP_dic = {\"hidden_layer_sizes\":[(5,), (10,), (50,), (100,)]}\n",
    "svc_dic={'C':[0.5, 0.7, 0.9, 1], 'kernel':['rbf', 'poly', 'sigmoid', 'linear']}\n",
    "\n",
    "# para_l = [LR_dic, KN_dic, DT_dic, RF_dic, MLP_dic]\n",
    "# model_list = [LR(),KN(),DT(),RF(), MLP()]\n",
    "\n",
    "para_l = [LR_dic, DT_dic, RF_dic, MLP_dic]\n",
    "model_list = [LR(), DT(),RF(), MLP()]\n",
    "\n",
    "\n",
    "score2_l = []\n",
    "for i, model in enumerate(model_list):\n",
    "    score2_l.append(tuned_score(model,para_l[i], X_under, y_under))\n",
    "    \n",
    "d2={'Model':model_list,'Accuracy, F1 score':score2_l}   \n",
    "res2_frame=pd.DataFrame(d2)\n",
    "res2_frame\n",
    "\n"
   ]
  },
  {
   "cell_type": "code",
   "execution_count": null,
   "metadata": {},
   "outputs": [],
   "source": []
  },
  {
   "cell_type": "code",
   "execution_count": null,
   "metadata": {},
   "outputs": [],
   "source": []
  },
  {
   "cell_type": "markdown",
   "metadata": {},
   "source": [
    "## Keras"
   ]
  },
  {
   "cell_type": "markdown",
   "metadata": {},
   "source": [
    "### Undersampling"
   ]
  },
  {
   "cell_type": "code",
   "execution_count": 67,
   "metadata": {},
   "outputs": [],
   "source": [
    "import keras\n",
    "from keras import backend as K\n",
    "from keras.models import Sequential\n",
    "from keras.layers import Activation\n",
    "from keras.layers.core import Dense\n",
    "from keras.optimizers import Adam\n",
    "from keras.metrics import categorical_crossentropy\n",
    "\n",
    "n_inputs = X.shape[1]\n",
    "\n",
    "undersample_model = Sequential([Dense(n_inputs, input_shape=(n_inputs, ), activation='relu'),\n",
    "                                Dense(32, activation='relu'), Dense(2, activation='softmax')])\n",
    "#undersample_model.summary()"
   ]
  },
  {
   "cell_type": "code",
   "execution_count": 70,
   "metadata": {},
   "outputs": [
    {
     "name": "stdout",
     "output_type": "stream",
     "text": [
      "Train on 182231 samples, validate on 45558 samples\n",
      "Epoch 1/20\n",
      " - 11s - loss: 0.0073 - acc: 0.9990 - val_loss: 0.0030 - val_acc: 0.9995\n",
      "Epoch 2/20\n",
      " - 10s - loss: 0.0031 - acc: 0.9994 - val_loss: 0.0033 - val_acc: 0.9994\n",
      "Epoch 3/20\n",
      " - 10s - loss: 0.0027 - acc: 0.9994 - val_loss: 0.0035 - val_acc: 0.9993\n",
      "Epoch 4/20\n",
      " - 10s - loss: 0.0026 - acc: 0.9995 - val_loss: 0.0030 - val_acc: 0.9995\n",
      "Epoch 5/20\n",
      " - 10s - loss: 0.0025 - acc: 0.9994 - val_loss: 0.0032 - val_acc: 0.9995\n",
      "Epoch 6/20\n",
      " - 11s - loss: 0.0023 - acc: 0.9994 - val_loss: 0.0033 - val_acc: 0.9995\n",
      "Epoch 7/20\n",
      " - 10s - loss: 0.0022 - acc: 0.9995 - val_loss: 0.0035 - val_acc: 0.9995\n",
      "Epoch 8/20\n",
      " - 12s - loss: 0.0021 - acc: 0.9995 - val_loss: 0.0036 - val_acc: 0.9995\n",
      "Epoch 9/20\n",
      " - 11s - loss: 0.0021 - acc: 0.9995 - val_loss: 0.0032 - val_acc: 0.9995\n",
      "Epoch 10/20\n",
      " - 11s - loss: 0.0019 - acc: 0.9995 - val_loss: 0.0039 - val_acc: 0.9994\n",
      "Epoch 11/20\n",
      " - 12s - loss: 0.0018 - acc: 0.9995 - val_loss: 0.0042 - val_acc: 0.9995\n",
      "Epoch 12/20\n",
      " - 13s - loss: 0.0017 - acc: 0.9996 - val_loss: 0.0044 - val_acc: 0.9994\n",
      "Epoch 13/20\n",
      " - 11s - loss: 0.0017 - acc: 0.9995 - val_loss: 0.0042 - val_acc: 0.9994\n",
      "Epoch 14/20\n",
      " - 12s - loss: 0.0016 - acc: 0.9996 - val_loss: 0.0048 - val_acc: 0.9995\n",
      "Epoch 15/20\n",
      " - 11s - loss: 0.0016 - acc: 0.9996 - val_loss: 0.0053 - val_acc: 0.9994\n",
      "Epoch 16/20\n",
      " - 11s - loss: 0.0015 - acc: 0.9996 - val_loss: 0.0048 - val_acc: 0.9994\n",
      "Epoch 17/20\n",
      " - 11s - loss: 0.0015 - acc: 0.9996 - val_loss: 0.0056 - val_acc: 0.9994\n",
      "Epoch 18/20\n",
      " - 11s - loss: 0.0015 - acc: 0.9996 - val_loss: 0.0050 - val_acc: 0.9994\n",
      "Epoch 19/20\n",
      " - 11s - loss: 0.0015 - acc: 0.9996 - val_loss: 0.0055 - val_acc: 0.9995\n",
      "Epoch 20/20\n",
      " - 11s - loss: 0.0016 - acc: 0.9996 - val_loss: 0.0053 - val_acc: 0.9994\n"
     ]
    },
    {
     "data": {
      "text/plain": [
       "<keras.callbacks.History at 0x1a1e1d6be0>"
      ]
     },
     "execution_count": 70,
     "metadata": {},
     "output_type": "execute_result"
    }
   ],
   "source": [
    "\n",
    "undersample_model.compile(Adam(lr=0.001), loss='sparse_categorical_crossentropy', metrics=['accuracy'])\n",
    "\n",
    "undersample_model.fit(X, y, validation_split=0.2, batch_size=25, epochs=20, shuffle=True, verbose=2)"
   ]
  },
  {
   "cell_type": "code",
   "execution_count": null,
   "metadata": {},
   "outputs": [],
   "source": []
  },
  {
   "cell_type": "markdown",
   "metadata": {},
   "source": [
    "## Prediction"
   ]
  },
  {
   "cell_type": "code",
   "execution_count": null,
   "metadata": {},
   "outputs": [],
   "source": [
    "data_test = pd.read_csv(\"creditcard_test.csv\")\n",
    "#data_test.head()\n",
    "testtest = data_test.iloc[:,1:31]\n",
    "#testtest\n",
    "\n",
    "pred = model.predict(testtest).astype(int)\n",
    "solution = pd.DataFrame(list(zip(data_test['Id'], pred)), columns=['Id', 'Class'])\n",
    "\n",
    "\n",
    "solution.to_csv('./CreditFraud_sub3.csv', index = False)"
   ]
  },
  {
   "cell_type": "code",
   "execution_count": null,
   "metadata": {},
   "outputs": [],
   "source": []
  }
 ],
 "metadata": {
  "kernelspec": {
   "display_name": "Python 3",
   "language": "python",
   "name": "python3"
  },
  "language_info": {
   "codemirror_mode": {
    "name": "ipython",
    "version": 3
   },
   "file_extension": ".py",
   "mimetype": "text/x-python",
   "name": "python",
   "nbconvert_exporter": "python",
   "pygments_lexer": "ipython3",
   "version": "3.6.5"
  },
  "toc": {
   "base_numbering": 1,
   "nav_menu": {},
   "number_sections": true,
   "sideBar": true,
   "skip_h1_title": true,
   "title_cell": "Table of Contents",
   "title_sidebar": "Contents",
   "toc_cell": false,
   "toc_position": {
    "height": "calc(100% - 180px)",
    "left": "10px",
    "top": "150px",
    "width": "165px"
   },
   "toc_section_display": true,
   "toc_window_display": true
  }
 },
 "nbformat": 4,
 "nbformat_minor": 2
}
